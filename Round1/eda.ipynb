{
 "cells": [
  {
   "cell_type": "code",
   "execution_count": 49,
   "metadata": {},
   "outputs": [],
   "source": [
    "import numpy as np\n",
    "import seaborn\n",
    "import pandas as pd\n",
    "import matplotlib.pyplot as plt\n",
    "from statsmodels.tsa.stattools import adfuller"
   ]
  },
  {
   "cell_type": "code",
   "execution_count": 32,
   "metadata": {},
   "outputs": [
    {
     "data": {
      "text/plain": [
       "day                       -2\n",
       "timestamp             999900\n",
       "product            AMETHYSTS\n",
       "bid_price_1             9996\n",
       "bid_volume_1               2\n",
       "bid_price_2           9995.0\n",
       "bid_volume_2            30.0\n",
       "bid_price_3              NaN\n",
       "bid_volume_3             NaN\n",
       "ask_price_1            10004\n",
       "ask_volume_1               2\n",
       "ask_price_2          10005.0\n",
       "ask_volume_2            30.0\n",
       "ask_price_3              NaN\n",
       "ask_volume_3             NaN\n",
       "mid_price            10000.0\n",
       "profit_and_loss          0.0\n",
       "Name: 19999, dtype: object"
      ]
     },
     "execution_count": 32,
     "metadata": {},
     "output_type": "execute_result"
    }
   ],
   "source": [
    "day_n2 = pd.read_csv('./round-1-island-data-bottle/prices_round_1_day_-2.csv', sep=';')\n",
    "day_n1 = pd.read_csv('./round-1-island-data-bottle/prices_round_1_day_-1.csv', sep=';')\n",
    "day_0 = pd.read_csv('./round-1-island-data-bottle/prices_round_1_day_0.csv', sep=';')"
   ]
  },
  {
   "cell_type": "code",
   "execution_count": 34,
   "metadata": {},
   "outputs": [
    {
     "data": {
      "text/html": [
       "<div>\n",
       "<style scoped>\n",
       "    .dataframe tbody tr th:only-of-type {\n",
       "        vertical-align: middle;\n",
       "    }\n",
       "\n",
       "    .dataframe tbody tr th {\n",
       "        vertical-align: top;\n",
       "    }\n",
       "\n",
       "    .dataframe thead th {\n",
       "        text-align: right;\n",
       "    }\n",
       "</style>\n",
       "<table border=\"1\" class=\"dataframe\">\n",
       "  <thead>\n",
       "    <tr style=\"text-align: right;\">\n",
       "      <th></th>\n",
       "      <th>day</th>\n",
       "      <th>timestamp</th>\n",
       "      <th>product</th>\n",
       "      <th>bid_price_1</th>\n",
       "      <th>bid_volume_1</th>\n",
       "      <th>bid_price_2</th>\n",
       "      <th>bid_volume_2</th>\n",
       "      <th>bid_price_3</th>\n",
       "      <th>bid_volume_3</th>\n",
       "      <th>ask_price_1</th>\n",
       "      <th>ask_volume_1</th>\n",
       "      <th>ask_price_2</th>\n",
       "      <th>ask_volume_2</th>\n",
       "      <th>ask_price_3</th>\n",
       "      <th>ask_volume_3</th>\n",
       "      <th>mid_price</th>\n",
       "      <th>profit_and_loss</th>\n",
       "    </tr>\n",
       "  </thead>\n",
       "  <tbody>\n",
       "    <tr>\n",
       "      <th>10</th>\n",
       "      <td>0</td>\n",
       "      <td>1000</td>\n",
       "      <td>STARFRUIT</td>\n",
       "      <td>5037</td>\n",
       "      <td>2</td>\n",
       "      <td>5036.0</td>\n",
       "      <td>26.0</td>\n",
       "      <td>NaN</td>\n",
       "      <td>NaN</td>\n",
       "      <td>5043</td>\n",
       "      <td>28</td>\n",
       "      <td>NaN</td>\n",
       "      <td>NaN</td>\n",
       "      <td>NaN</td>\n",
       "      <td>NaN</td>\n",
       "      <td>5040.0</td>\n",
       "      <td>0.0</td>\n",
       "    </tr>\n",
       "    <tr>\n",
       "      <th>11</th>\n",
       "      <td>0</td>\n",
       "      <td>1100</td>\n",
       "      <td>STARFRUIT</td>\n",
       "      <td>5038</td>\n",
       "      <td>6</td>\n",
       "      <td>5037.0</td>\n",
       "      <td>25.0</td>\n",
       "      <td>NaN</td>\n",
       "      <td>NaN</td>\n",
       "      <td>5043</td>\n",
       "      <td>2</td>\n",
       "      <td>5044.0</td>\n",
       "      <td>23.0</td>\n",
       "      <td>NaN</td>\n",
       "      <td>NaN</td>\n",
       "      <td>5040.5</td>\n",
       "      <td>0.0</td>\n",
       "    </tr>\n",
       "    <tr>\n",
       "      <th>12</th>\n",
       "      <td>0</td>\n",
       "      <td>1200</td>\n",
       "      <td>STARFRUIT</td>\n",
       "      <td>5037</td>\n",
       "      <td>8</td>\n",
       "      <td>5036.0</td>\n",
       "      <td>30.0</td>\n",
       "      <td>NaN</td>\n",
       "      <td>NaN</td>\n",
       "      <td>5043</td>\n",
       "      <td>30</td>\n",
       "      <td>NaN</td>\n",
       "      <td>NaN</td>\n",
       "      <td>NaN</td>\n",
       "      <td>NaN</td>\n",
       "      <td>5040.0</td>\n",
       "      <td>0.0</td>\n",
       "    </tr>\n",
       "    <tr>\n",
       "      <th>13</th>\n",
       "      <td>0</td>\n",
       "      <td>1300</td>\n",
       "      <td>STARFRUIT</td>\n",
       "      <td>5036</td>\n",
       "      <td>28</td>\n",
       "      <td>NaN</td>\n",
       "      <td>NaN</td>\n",
       "      <td>NaN</td>\n",
       "      <td>NaN</td>\n",
       "      <td>5037</td>\n",
       "      <td>5</td>\n",
       "      <td>5042.0</td>\n",
       "      <td>1.0</td>\n",
       "      <td>5043.0</td>\n",
       "      <td>27.0</td>\n",
       "      <td>5036.5</td>\n",
       "      <td>0.0</td>\n",
       "    </tr>\n",
       "    <tr>\n",
       "      <th>14</th>\n",
       "      <td>0</td>\n",
       "      <td>1400</td>\n",
       "      <td>STARFRUIT</td>\n",
       "      <td>5036</td>\n",
       "      <td>25</td>\n",
       "      <td>NaN</td>\n",
       "      <td>NaN</td>\n",
       "      <td>NaN</td>\n",
       "      <td>NaN</td>\n",
       "      <td>5043</td>\n",
       "      <td>26</td>\n",
       "      <td>NaN</td>\n",
       "      <td>NaN</td>\n",
       "      <td>NaN</td>\n",
       "      <td>NaN</td>\n",
       "      <td>5039.5</td>\n",
       "      <td>0.0</td>\n",
       "    </tr>\n",
       "    <tr>\n",
       "      <th>15</th>\n",
       "      <td>0</td>\n",
       "      <td>1500</td>\n",
       "      <td>STARFRUIT</td>\n",
       "      <td>5041</td>\n",
       "      <td>1</td>\n",
       "      <td>5036.0</td>\n",
       "      <td>22.0</td>\n",
       "      <td>NaN</td>\n",
       "      <td>NaN</td>\n",
       "      <td>5043</td>\n",
       "      <td>22</td>\n",
       "      <td>NaN</td>\n",
       "      <td>NaN</td>\n",
       "      <td>NaN</td>\n",
       "      <td>NaN</td>\n",
       "      <td>5042.0</td>\n",
       "      <td>0.0</td>\n",
       "    </tr>\n",
       "    <tr>\n",
       "      <th>16</th>\n",
       "      <td>0</td>\n",
       "      <td>1600</td>\n",
       "      <td>STARFRUIT</td>\n",
       "      <td>5037</td>\n",
       "      <td>23</td>\n",
       "      <td>NaN</td>\n",
       "      <td>NaN</td>\n",
       "      <td>NaN</td>\n",
       "      <td>NaN</td>\n",
       "      <td>5043</td>\n",
       "      <td>1</td>\n",
       "      <td>5044.0</td>\n",
       "      <td>22.0</td>\n",
       "      <td>NaN</td>\n",
       "      <td>NaN</td>\n",
       "      <td>5040.0</td>\n",
       "      <td>0.0</td>\n",
       "    </tr>\n",
       "    <tr>\n",
       "      <th>17</th>\n",
       "      <td>0</td>\n",
       "      <td>1700</td>\n",
       "      <td>STARFRUIT</td>\n",
       "      <td>5036</td>\n",
       "      <td>27</td>\n",
       "      <td>NaN</td>\n",
       "      <td>NaN</td>\n",
       "      <td>NaN</td>\n",
       "      <td>NaN</td>\n",
       "      <td>5041</td>\n",
       "      <td>8</td>\n",
       "      <td>5043.0</td>\n",
       "      <td>27.0</td>\n",
       "      <td>NaN</td>\n",
       "      <td>NaN</td>\n",
       "      <td>5038.5</td>\n",
       "      <td>0.0</td>\n",
       "    </tr>\n",
       "    <tr>\n",
       "      <th>18</th>\n",
       "      <td>0</td>\n",
       "      <td>1800</td>\n",
       "      <td>STARFRUIT</td>\n",
       "      <td>5037</td>\n",
       "      <td>10</td>\n",
       "      <td>5036.0</td>\n",
       "      <td>25.0</td>\n",
       "      <td>NaN</td>\n",
       "      <td>NaN</td>\n",
       "      <td>5043</td>\n",
       "      <td>2</td>\n",
       "      <td>5044.0</td>\n",
       "      <td>25.0</td>\n",
       "      <td>NaN</td>\n",
       "      <td>NaN</td>\n",
       "      <td>5040.0</td>\n",
       "      <td>0.0</td>\n",
       "    </tr>\n",
       "    <tr>\n",
       "      <th>19</th>\n",
       "      <td>0</td>\n",
       "      <td>1900</td>\n",
       "      <td>STARFRUIT</td>\n",
       "      <td>5036</td>\n",
       "      <td>31</td>\n",
       "      <td>NaN</td>\n",
       "      <td>NaN</td>\n",
       "      <td>NaN</td>\n",
       "      <td>NaN</td>\n",
       "      <td>5043</td>\n",
       "      <td>31</td>\n",
       "      <td>NaN</td>\n",
       "      <td>NaN</td>\n",
       "      <td>NaN</td>\n",
       "      <td>NaN</td>\n",
       "      <td>5039.5</td>\n",
       "      <td>0.0</td>\n",
       "    </tr>\n",
       "    <tr>\n",
       "      <th>20</th>\n",
       "      <td>0</td>\n",
       "      <td>2000</td>\n",
       "      <td>STARFRUIT</td>\n",
       "      <td>5036</td>\n",
       "      <td>26</td>\n",
       "      <td>NaN</td>\n",
       "      <td>NaN</td>\n",
       "      <td>NaN</td>\n",
       "      <td>NaN</td>\n",
       "      <td>5037</td>\n",
       "      <td>7</td>\n",
       "      <td>5043.0</td>\n",
       "      <td>26.0</td>\n",
       "      <td>NaN</td>\n",
       "      <td>NaN</td>\n",
       "      <td>5036.5</td>\n",
       "      <td>0.0</td>\n",
       "    </tr>\n",
       "  </tbody>\n",
       "</table>\n",
       "</div>"
      ],
      "text/plain": [
       "    day  timestamp    product  bid_price_1  bid_volume_1  bid_price_2  \\\n",
       "10    0       1000  STARFRUIT         5037             2       5036.0   \n",
       "11    0       1100  STARFRUIT         5038             6       5037.0   \n",
       "12    0       1200  STARFRUIT         5037             8       5036.0   \n",
       "13    0       1300  STARFRUIT         5036            28          NaN   \n",
       "14    0       1400  STARFRUIT         5036            25          NaN   \n",
       "15    0       1500  STARFRUIT         5041             1       5036.0   \n",
       "16    0       1600  STARFRUIT         5037            23          NaN   \n",
       "17    0       1700  STARFRUIT         5036            27          NaN   \n",
       "18    0       1800  STARFRUIT         5037            10       5036.0   \n",
       "19    0       1900  STARFRUIT         5036            31          NaN   \n",
       "20    0       2000  STARFRUIT         5036            26          NaN   \n",
       "\n",
       "    bid_volume_2  bid_price_3  bid_volume_3  ask_price_1  ask_volume_1  \\\n",
       "10          26.0          NaN           NaN         5043            28   \n",
       "11          25.0          NaN           NaN         5043             2   \n",
       "12          30.0          NaN           NaN         5043            30   \n",
       "13           NaN          NaN           NaN         5037             5   \n",
       "14           NaN          NaN           NaN         5043            26   \n",
       "15          22.0          NaN           NaN         5043            22   \n",
       "16           NaN          NaN           NaN         5043             1   \n",
       "17           NaN          NaN           NaN         5041             8   \n",
       "18          25.0          NaN           NaN         5043             2   \n",
       "19           NaN          NaN           NaN         5043            31   \n",
       "20           NaN          NaN           NaN         5037             7   \n",
       "\n",
       "    ask_price_2  ask_volume_2  ask_price_3  ask_volume_3  mid_price  \\\n",
       "10          NaN           NaN          NaN           NaN     5040.0   \n",
       "11       5044.0          23.0          NaN           NaN     5040.5   \n",
       "12          NaN           NaN          NaN           NaN     5040.0   \n",
       "13       5042.0           1.0       5043.0          27.0     5036.5   \n",
       "14          NaN           NaN          NaN           NaN     5039.5   \n",
       "15          NaN           NaN          NaN           NaN     5042.0   \n",
       "16       5044.0          22.0          NaN           NaN     5040.0   \n",
       "17       5043.0          27.0          NaN           NaN     5038.5   \n",
       "18       5044.0          25.0          NaN           NaN     5040.0   \n",
       "19          NaN           NaN          NaN           NaN     5039.5   \n",
       "20       5043.0          26.0          NaN           NaN     5036.5   \n",
       "\n",
       "    profit_and_loss  \n",
       "10              0.0  \n",
       "11              0.0  \n",
       "12              0.0  \n",
       "13              0.0  \n",
       "14              0.0  \n",
       "15              0.0  \n",
       "16              0.0  \n",
       "17              0.0  \n",
       "18              0.0  \n",
       "19              0.0  \n",
       "20              0.0  "
      ]
     },
     "execution_count": 34,
     "metadata": {},
     "output_type": "execute_result"
    }
   ],
   "source": [
    "ameth_day_n2 = day_n2[day_n2['product']=='AMETHYSTS'].reset_index(drop=True)\n",
    "ameth_day_n1 = day_n1[day_n1['product']=='AMETHYSTS'].reset_index(drop=True)\n",
    "ameth_day_0 = day_0[day_0['product']=='AMETHYSTS'].reset_index(drop=True)\n",
    "\n",
    "star_day_n2 = day_n2[day_n2['product']=='STARFRUIT'].reset_index(drop=True)\n",
    "star_day_n1 = day_n1[day_n1['product']=='STARFRUIT'].reset_index(drop=True)\n",
    "star_day_0 = day_0[day_0['product']=='STARFRUIT'].reset_index(drop=True)\n",
    "\n",
    "\n",
    "star_day_0.loc[10:20]"
   ]
  },
  {
   "cell_type": "code",
   "execution_count": 20,
   "metadata": {},
   "outputs": [
    {
     "data": {
      "text/plain": [
       "1.5138417756463747"
      ]
     },
     "execution_count": 20,
     "metadata": {},
     "output_type": "execute_result"
    }
   ],
   "source": [
    "variance = ameth_day_n2['mid_price'].var()**0.5\n",
    "variance"
   ]
  },
  {
   "cell_type": "markdown",
   "metadata": {},
   "source": [
    "## Log Returns Stationarity"
   ]
  },
  {
   "cell_type": "code",
   "execution_count": 39,
   "metadata": {},
   "outputs": [
    {
     "data": {
      "text/plain": [
       "0           NaN\n",
       "1       0.00025\n",
       "2      -0.00025\n",
       "3       0.00000\n",
       "4      -0.00035\n",
       "         ...   \n",
       "9995    0.00000\n",
       "9996    0.00015\n",
       "9997   -0.00015\n",
       "9998   -0.00030\n",
       "9999    0.00030\n",
       "Name: mid_price, Length: 10000, dtype: float64"
      ]
     },
     "execution_count": 39,
     "metadata": {},
     "output_type": "execute_result"
    }
   ],
   "source": [
    "ameth_log_ret_n2 = np.log(ameth_day_n2['mid_price'] / ameth_day_n2['mid_price'].shift(1))\n",
    "ameth_log_ret_n1 = np.log(ameth_day_n1['mid_price'] / ameth_day_n1['mid_price'].shift(1))\n",
    "ameth_log_ret_0 = np.log(ameth_day_0['mid_price'] / ameth_day_0['mid_price'].shift(1))\n",
    "ameth_log_ret_n2"
   ]
  },
  {
   "cell_type": "code",
   "execution_count": 37,
   "metadata": {},
   "outputs": [
    {
     "name": "stdout",
     "output_type": "stream",
     "text": [
      "ADF Statistic: -28.289978082634015\n",
      "p-value: 0.0\n"
     ]
    },
    {
     "data": {
      "text/plain": [
       "(-28.289978082634015,\n",
       " 0.0,\n",
       " 38,\n",
       " 9960,\n",
       " {'1%': -3.4310067255162737,\n",
       "  '5%': -2.86183023348434,\n",
       "  '10%': -2.5669244861474008},\n",
       " -146648.7451759243)"
      ]
     },
     "execution_count": 37,
     "metadata": {},
     "output_type": "execute_result"
    }
   ],
   "source": [
    "res = adfuller(ameth_log_ret_n2[1:])\n",
    "print(f'ADF Statistic: {res[0]}')\n",
    "print(f'p-value: {res[1]}')\n",
    "res"
   ]
  },
  {
   "cell_type": "code",
   "execution_count": null,
   "metadata": {},
   "outputs": [],
   "source": []
  },
  {
   "cell_type": "code",
   "execution_count": 40,
   "metadata": {},
   "outputs": [
    {
     "data": {
      "text/plain": [
       "0            NaN\n",
       "1       0.000496\n",
       "2      -0.000397\n",
       "3       0.000099\n",
       "4      -0.000198\n",
       "          ...   \n",
       "9995    0.000198\n",
       "9996   -0.000297\n",
       "9997    0.000495\n",
       "9998   -0.000792\n",
       "9999    0.000297\n",
       "Name: mid_price, Length: 10000, dtype: float64"
      ]
     },
     "execution_count": 40,
     "metadata": {},
     "output_type": "execute_result"
    }
   ],
   "source": [
    "star_log_ret_n2 = np.log(star_day_n2['mid_price'] / star_day_n2['mid_price'].shift(1))\n",
    "star_log_ret_n1 = np.log(star_day_n1['mid_price'] / star_day_n1['mid_price'].shift(1))\n",
    "star_log_ret_0 = np.log(star_day_0['mid_price'] / star_day_0['mid_price'].shift(1))\n",
    "star_log_ret_0"
   ]
  },
  {
   "cell_type": "code",
   "execution_count": 69,
   "metadata": {},
   "outputs": [
    {
     "data": {
      "text/plain": [
       "0           NaN\n",
       "1      -0.00025\n",
       "2      -0.00015\n",
       "3      -0.00045\n",
       "4      -0.00005\n",
       "         ...   \n",
       "9995   -0.00030\n",
       "9996   -0.00025\n",
       "9997   -0.00015\n",
       "9998   -0.00015\n",
       "9999   -0.00015\n",
       "Name: mid_price, Length: 10000, dtype: float64"
      ]
     },
     "execution_count": 69,
     "metadata": {},
     "output_type": "execute_result"
    }
   ],
   "source": [
    "ameth_sum_log_ret_n2 = np.log(ameth_day_n2['mid_price'] / ameth_day_n2['mid_price'].shift(1)).cumsum()\n",
    "ameth_sum_log_ret_n1 = np.log(ameth_day_n1['mid_price'] / ameth_day_n1['mid_price'].shift(1)).cumsum()\n",
    "ameth_sum_log_ret_0 = np.log(ameth_day_0['mid_price'] / ameth_day_0['mid_price'].shift(1)).cumsum()\n",
    "ameth_sum_log_ret_0"
   ]
  },
  {
   "cell_type": "code",
   "execution_count": 70,
   "metadata": {},
   "outputs": [],
   "source": [
    "star_sum_log_ret_n2 = np.log(star_day_n2['mid_price'] / star_day_n2['mid_price'].shift(1)).cumsum()\n",
    "star_sum_log_ret_n1 = np.log(star_day_n1['mid_price'] / star_day_n1['mid_price'].shift(1)).cumsum()\n",
    "star_sum_log_ret_0 = np.log(star_day_0['mid_price'] / star_day_0['mid_price'].shift(1)).cumsum()"
   ]
  },
  {
   "cell_type": "markdown",
   "metadata": {},
   "source": [
    "## Log Returns Autocorrelation"
   ]
  },
  {
   "cell_type": "markdown",
   "metadata": {},
   "source": []
  },
  {
   "cell_type": "code",
   "execution_count": 48,
   "metadata": {},
   "outputs": [
    {
     "data": {
      "image/png": "[encoded data removed]",
      "text/plain": [
       "<Figure size 640x480 with 1 Axes>"
      ]
     },
     "metadata": {},
     "output_type": "display_data"
    }
   ],
   "source": [
    "plt.scatter(ameth_log_ret_n1,ameth_log_ret_n1.shift(-1))\n",
    "plt.show()"
   ]
  },
  {
   "cell_type": "code",
   "execution_count": 47,
   "metadata": {},
   "outputs": [
    {
     "data": {
      "image/png": "[encoded data removed]",
      "text/plain": [
       "<Figure size 640x480 with 1 Axes>"
      ]
     },
     "metadata": {},
     "output_type": "display_data"
    }
   ],
   "source": [
    "plt.scatter(star_log_ret_n1,star_log_ret_n1.shift(1))\n",
    "plt.show()"
   ]
  },
  {
   "cell_type": "code",
   "execution_count": 80,
   "metadata": {},
   "outputs": [
    {
     "data": {
      "text/plain": [
       "<AxesSubplot:xlabel='delay of ameth', ylabel='correlation coefficient'>"
      ]
     },
     "execution_count": 80,
     "metadata": {},
     "output_type": "execute_result"
    },
    {
     "data": {
      "image/png": "[encoded data removed]",
      "text/plain": [
       "<Figure size 1400x300 with 1 Axes>"
      ]
     },
     "metadata": {},
     "output_type": "display_data"
    }
   ],
   "source": [
    "def crosscorr(datax, datay, lag=0, wrap=False):\n",
    "    \"\"\" Lag-N cross correlation. \n",
    "    Shifted data filled with NaNs \n",
    "    \n",
    "    Parameters\n",
    "    ----------\n",
    "    lag : int, default 0\n",
    "    datax, datay : pandas.Series objects of equal length\n",
    "    Returns\n",
    "    ----------\n",
    "    crosscorr : float\n",
    "    \"\"\"\n",
    "    if wrap:\n",
    "        shiftedy = datay.shift(lag)\n",
    "        shiftedy.iloc[:lag] = datay.iloc[-lag:].values\n",
    "        return datax.corr(shiftedy)\n",
    "    else: \n",
    "        return datax.corr(datay.shift(lag))\n",
    "\n",
    "\n",
    "# crosscorr_matrix = np.zeros([4,4])\n",
    "# crossindex_matrix = np.zeros([4,4]) \n",
    "# for i in range(4):\n",
    "#     for j in range(4):\n",
    "#         d1 = normalized_df[f'Stock{i+1}r']\n",
    "#         d2 = normalized_df[f'Stock{j+1}r']\n",
    "#         arr = np.array([[lag,crosscorr(d1,d2, lag)] for lag in range(-300,300)]).transpose()\n",
    "#         crosscorr_matrix[i][j] = max(arr[1],key=abs)\n",
    "#         crossindex_matrix[i][j] = arr[0][int(np.argmax(np.abs(arr[1])))]\n",
    "        \n",
    "d1 = star_sum_log_ret_n1\n",
    "d2 = star_log_ret_n1\n",
    "rs = np.array([[lag, crosscorr(d1,d2, lag)] for lag in range(-300,300)])\n",
    "        \n",
    "rs_df = pd.DataFrame(rs,columns=['delay of ameth','correlation coefficient'])\n",
    "f,ax=plt.subplots(figsize=(14,3))\n",
    "seaborn.lineplot(data=rs_df,x='delay of ameth',y='correlation coefficient')\n",
    "# ax.axvline(rs_df[\"index\"][np.argmax(rs_df[\"value\"])],color='r',linestyle='--',label='Peak synchrony')\n",
    "# ax.set(title=f'Offset = {offset} frames\\nS1 leads <> S2 leads',ylim=[-1,1],xlim=[-800,800], xlabel='Offset',ylabel='Pearson r')\n",
    "# ax.set_xticks([0, 50, 100, 151, 201, 251, 301])\n",
    "# ax.set_xticklabels([-150, -100, -50, 0, 50, 100, 150]);"
   ]
  },
  {
   "cell_type": "code",
   "execution_count": 74,
   "metadata": {},
   "outputs": [
    {
     "data": {
      "text/plain": [
       "<AxesSubplot:xlabel='delay of star', ylabel='correlation coefficient'>"
      ]
     },
     "execution_count": 74,
     "metadata": {},
     "output_type": "execute_result"
    },
    {
     "data": {
      "image/png": "[encoded data removed]",
      "text/plain": [
       "<Figure size 1400x300 with 1 Axes>"
      ]
     },
     "metadata": {},
     "output_type": "display_data"
    }
   ],
   "source": [
    "def crosscorr(datax, datay, lag=0, wrap=False):\n",
    "    \"\"\" Lag-N cross correlation. \n",
    "    Shifted data filled with NaNs \n",
    "    \n",
    "    Parameters\n",
    "    ----------\n",
    "    lag : int, default 0\n",
    "    datax, datay : pandas.Series objects of equal length\n",
    "    Returns\n",
    "    ----------\n",
    "    crosscorr : float\n",
    "    \"\"\"\n",
    "    if wrap:\n",
    "        shiftedy = datay.shift(lag)\n",
    "        shiftedy.iloc[:lag] = datay.iloc[-lag:].values\n",
    "        return datax.corr(shiftedy)\n",
    "    else: \n",
    "        return datax.corr(datay.shift(lag))\n",
    "\n",
    "\n",
    "# crosscorr_matrix = np.zeros([4,4])\n",
    "# crossindex_matrix = np.zeros([4,4]) \n",
    "# for i in range(4):\n",
    "#     for j in range(4):\n",
    "#         d1 = normalized_df[f'Stock{i+1}r']\n",
    "#         d2 = normalized_df[f'Stock{j+1}r']\n",
    "#         arr = np.array([[lag,crosscorr(d1,d2, lag)] for lag in range(-300,300)]).transpose()\n",
    "#         crosscorr_matrix[i][j] = max(arr[1],key=abs)\n",
    "#         crossindex_matrix[i][j] = arr[0][int(np.argmax(np.abs(arr[1])))]\n",
    "        \n",
    "d1 = ameth_sum_log_ret_n1\n",
    "d2 = ameth_log_ret_n1\n",
    "rs = np.array([[lag, crosscorr(d1,d2, lag)] for lag in range(-300,300)])\n",
    "        \n",
    "rs_df = pd.DataFrame(rs,columns=['delay of star','correlation coefficient'])\n",
    "f,ax=plt.subplots(figsize=(14,3))\n",
    "seaborn.lineplot(data=rs_df,x='delay of star',y='correlation coefficient')\n",
    "# ax.axvline(rs_df[\"index\"][np.argmax(rs_df[\"value\"])],color='r',linestyle='--',label='Peak synchrony')\n",
    "# ax.set(title=f'Offset = {offset} frames\\nS1 leads <> S2 leads',ylim=[-1,1],xlim=[-800,800], xlabel='Offset',ylabel='Pearson r')\n",
    "# ax.set_xticks([0, 50, 100, 151, 201, 251, 301])\n",
    "# ax.set_xticklabels([-150, -100, -50, 0, 50, 100, 150]);"
   ]
  },
  {
   "cell_type": "code",
   "execution_count": 75,
   "metadata": {},
   "outputs": [
    {
     "name": "stdout",
     "output_type": "stream",
     "text": [
      "-0.7031303395279366\n"
     ]
    }
   ],
   "source": [
    "print(rs_df['correlation coefficient'][rs_df['correlation coefficient'] < 0].min())"
   ]
  },
  {
   "cell_type": "code",
   "execution_count": 76,
   "metadata": {},
   "outputs": [
    {
     "data": {
      "text/html": [
       "<div>\n",
       "<style scoped>\n",
       "    .dataframe tbody tr th:only-of-type {\n",
       "        vertical-align: middle;\n",
       "    }\n",
       "\n",
       "    .dataframe tbody tr th {\n",
       "        vertical-align: top;\n",
       "    }\n",
       "\n",
       "    .dataframe thead th {\n",
       "        text-align: right;\n",
       "    }\n",
       "</style>\n",
       "<table border=\"1\" class=\"dataframe\">\n",
       "  <thead>\n",
       "    <tr style=\"text-align: right;\">\n",
       "      <th></th>\n",
       "      <th>delay of star</th>\n",
       "      <th>correlation coefficient</th>\n",
       "    </tr>\n",
       "  </thead>\n",
       "  <tbody>\n",
       "    <tr>\n",
       "      <th>299</th>\n",
       "      <td>-1.0</td>\n",
       "      <td>-0.70313</td>\n",
       "    </tr>\n",
       "  </tbody>\n",
       "</table>\n",
       "</div>"
      ],
      "text/plain": [
       "     delay of star  correlation coefficient\n",
       "299           -1.0                 -0.70313"
      ]
     },
     "execution_count": 76,
     "metadata": {},
     "output_type": "execute_result"
    }
   ],
   "source": [
    "rs_df.loc[rs_df['correlation coefficient']< -0.7]"
   ]
  },
  {
   "cell_type": "code",
   "execution_count": 77,
   "metadata": {},
   "outputs": [
    {
     "data": {
      "text/html": [
       "<div>\n",
       "<style scoped>\n",
       "    .dataframe tbody tr th:only-of-type {\n",
       "        vertical-align: middle;\n",
       "    }\n",
       "\n",
       "    .dataframe tbody tr th {\n",
       "        vertical-align: top;\n",
       "    }\n",
       "\n",
       "    .dataframe thead th {\n",
       "        text-align: right;\n",
       "    }\n",
       "</style>\n",
       "<table border=\"1\" class=\"dataframe\">\n",
       "  <thead>\n",
       "    <tr style=\"text-align: right;\">\n",
       "      <th></th>\n",
       "      <th>delay of star</th>\n",
       "      <th>correlation coefficient</th>\n",
       "    </tr>\n",
       "  </thead>\n",
       "  <tbody>\n",
       "    <tr>\n",
       "      <th>300</th>\n",
       "      <td>0.0</td>\n",
       "      <td>0.703056</td>\n",
       "    </tr>\n",
       "  </tbody>\n",
       "</table>\n",
       "</div>"
      ],
      "text/plain": [
       "     delay of star  correlation coefficient\n",
       "300            0.0                 0.703056"
      ]
     },
     "execution_count": 77,
     "metadata": {},
     "output_type": "execute_result"
    }
   ],
   "source": [
    "rs_df.loc[rs_df['correlation coefficient']> 0.7]"
   ]
  },
  {
   "cell_type": "code",
   "execution_count": 78,
   "metadata": {},
   "outputs": [
    {
     "data": {
      "text/html": [
       "<div>\n",
       "<style scoped>\n",
       "    .dataframe tbody tr th:only-of-type {\n",
       "        vertical-align: middle;\n",
       "    }\n",
       "\n",
       "    .dataframe tbody tr th {\n",
       "        vertical-align: top;\n",
       "    }\n",
       "\n",
       "    .dataframe thead th {\n",
       "        text-align: right;\n",
       "    }\n",
       "</style>\n",
       "<table border=\"1\" class=\"dataframe\">\n",
       "  <thead>\n",
       "    <tr style=\"text-align: right;\">\n",
       "      <th></th>\n",
       "      <th>delay of star</th>\n",
       "      <th>correlation coefficient</th>\n",
       "    </tr>\n",
       "  </thead>\n",
       "  <tbody>\n",
       "    <tr>\n",
       "      <th>0</th>\n",
       "      <td>-300.0</td>\n",
       "      <td>-0.009465</td>\n",
       "    </tr>\n",
       "    <tr>\n",
       "      <th>1</th>\n",
       "      <td>-299.0</td>\n",
       "      <td>0.013996</td>\n",
       "    </tr>\n",
       "    <tr>\n",
       "      <th>2</th>\n",
       "      <td>-298.0</td>\n",
       "      <td>-0.020700</td>\n",
       "    </tr>\n",
       "    <tr>\n",
       "      <th>3</th>\n",
       "      <td>-297.0</td>\n",
       "      <td>0.017401</td>\n",
       "    </tr>\n",
       "    <tr>\n",
       "      <th>4</th>\n",
       "      <td>-296.0</td>\n",
       "      <td>-0.002978</td>\n",
       "    </tr>\n",
       "    <tr>\n",
       "      <th>...</th>\n",
       "      <td>...</td>\n",
       "      <td>...</td>\n",
       "    </tr>\n",
       "    <tr>\n",
       "      <th>595</th>\n",
       "      <td>295.0</td>\n",
       "      <td>0.002968</td>\n",
       "    </tr>\n",
       "    <tr>\n",
       "      <th>596</th>\n",
       "      <td>296.0</td>\n",
       "      <td>-0.017256</td>\n",
       "    </tr>\n",
       "    <tr>\n",
       "      <th>597</th>\n",
       "      <td>297.0</td>\n",
       "      <td>0.020541</td>\n",
       "    </tr>\n",
       "    <tr>\n",
       "      <th>598</th>\n",
       "      <td>298.0</td>\n",
       "      <td>-0.013961</td>\n",
       "    </tr>\n",
       "    <tr>\n",
       "      <th>599</th>\n",
       "      <td>299.0</td>\n",
       "      <td>0.009337</td>\n",
       "    </tr>\n",
       "  </tbody>\n",
       "</table>\n",
       "<p>600 rows × 2 columns</p>\n",
       "</div>"
      ],
      "text/plain": [
       "     delay of star  correlation coefficient\n",
       "0           -300.0                -0.009465\n",
       "1           -299.0                 0.013996\n",
       "2           -298.0                -0.020700\n",
       "3           -297.0                 0.017401\n",
       "4           -296.0                -0.002978\n",
       "..             ...                      ...\n",
       "595          295.0                 0.002968\n",
       "596          296.0                -0.017256\n",
       "597          297.0                 0.020541\n",
       "598          298.0                -0.013961\n",
       "599          299.0                 0.009337\n",
       "\n",
       "[600 rows x 2 columns]"
      ]
     },
     "execution_count": 78,
     "metadata": {},
     "output_type": "execute_result"
    }
   ],
   "source": [
    "rs_df"
   ]
  },
  {
   "cell_type": "code",
   "execution_count": 79,
   "metadata": {},
   "outputs": [
    {
     "data": {
      "text/html": [
       "<div>\n",
       "<style scoped>\n",
       "    .dataframe tbody tr th:only-of-type {\n",
       "        vertical-align: middle;\n",
       "    }\n",
       "\n",
       "    .dataframe tbody tr th {\n",
       "        vertical-align: top;\n",
       "    }\n",
       "\n",
       "    .dataframe thead th {\n",
       "        text-align: right;\n",
       "    }\n",
       "</style>\n",
       "<table border=\"1\" class=\"dataframe\">\n",
       "  <thead>\n",
       "    <tr style=\"text-align: right;\">\n",
       "      <th></th>\n",
       "      <th>delay of star</th>\n",
       "      <th>correlation coefficient</th>\n",
       "    </tr>\n",
       "  </thead>\n",
       "  <tbody>\n",
       "    <tr>\n",
       "      <th>0</th>\n",
       "      <td>NaN</td>\n",
       "      <td>NaN</td>\n",
       "    </tr>\n",
       "    <tr>\n",
       "      <th>1</th>\n",
       "      <td>-300.0</td>\n",
       "      <td>-0.009465</td>\n",
       "    </tr>\n",
       "    <tr>\n",
       "      <th>2</th>\n",
       "      <td>-299.0</td>\n",
       "      <td>0.013996</td>\n",
       "    </tr>\n",
       "    <tr>\n",
       "      <th>3</th>\n",
       "      <td>-298.0</td>\n",
       "      <td>-0.020700</td>\n",
       "    </tr>\n",
       "    <tr>\n",
       "      <th>4</th>\n",
       "      <td>-297.0</td>\n",
       "      <td>0.017401</td>\n",
       "    </tr>\n",
       "    <tr>\n",
       "      <th>...</th>\n",
       "      <td>...</td>\n",
       "      <td>...</td>\n",
       "    </tr>\n",
       "    <tr>\n",
       "      <th>595</th>\n",
       "      <td>294.0</td>\n",
       "      <td>-0.006961</td>\n",
       "    </tr>\n",
       "    <tr>\n",
       "      <th>596</th>\n",
       "      <td>295.0</td>\n",
       "      <td>0.002968</td>\n",
       "    </tr>\n",
       "    <tr>\n",
       "      <th>597</th>\n",
       "      <td>296.0</td>\n",
       "      <td>-0.017256</td>\n",
       "    </tr>\n",
       "    <tr>\n",
       "      <th>598</th>\n",
       "      <td>297.0</td>\n",
       "      <td>0.020541</td>\n",
       "    </tr>\n",
       "    <tr>\n",
       "      <th>599</th>\n",
       "      <td>298.0</td>\n",
       "      <td>-0.013961</td>\n",
       "    </tr>\n",
       "  </tbody>\n",
       "</table>\n",
       "<p>600 rows × 2 columns</p>\n",
       "</div>"
      ],
      "text/plain": [
       "     delay of star  correlation coefficient\n",
       "0              NaN                      NaN\n",
       "1           -300.0                -0.009465\n",
       "2           -299.0                 0.013996\n",
       "3           -298.0                -0.020700\n",
       "4           -297.0                 0.017401\n",
       "..             ...                      ...\n",
       "595          294.0                -0.006961\n",
       "596          295.0                 0.002968\n",
       "597          296.0                -0.017256\n",
       "598          297.0                 0.020541\n",
       "599          298.0                -0.013961\n",
       "\n",
       "[600 rows x 2 columns]"
      ]
     },
     "execution_count": 79,
     "metadata": {},
     "output_type": "execute_result"
    }
   ],
   "source": [
    "rs_df.shift(1)"
   ]
  },
  {
   "cell_type": "code",
   "execution_count": null,
   "metadata": {},
   "outputs": [],
   "source": []
  }
 ],
 "metadata": {
  "kernelspec": {
   "display_name": "Python 3",
   "language": "python",
   "name": "python3"
  },
  "language_info": {
   "codemirror_mode": {
    "name": "ipython",
    "version": 3
   },
   "file_extension": ".py",
   "mimetype": "text/x-python",
   "name": "python",
   "nbconvert_exporter": "python",
   "pygments_lexer": "ipython3",
   "version": "3.9.12"
  }
 },
 "nbformat": 4,
 "nbformat_minor": 2
}
